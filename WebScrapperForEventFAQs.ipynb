{
 "cells": [
  {
   "cell_type": "code",
   "execution_count": 174,
   "metadata": {},
   "outputs": [],
   "source": [
    "import pandas as pd\n",
    "import numpy as np\n",
    "import matplotlib.pyplot as plt\n",
    "import seaborn as sns\n",
    "%matplotlib inline"
   ]
  },
  {
   "cell_type": "code",
   "execution_count": 175,
   "metadata": {},
   "outputs": [],
   "source": [
    "from urllib.request import urlopen\n",
    "from bs4 import BeautifulSoup"
   ]
  },
  {
   "cell_type": "code",
   "execution_count": 202,
   "metadata": {},
   "outputs": [
    {
     "name": "stdout",
     "output_type": "stream",
     "text": [
      "File created\n"
     ]
    }
   ],
   "source": [
    "page_number = 55\n",
    "url = \"https://www.eventfaqs.com/news/corporate-brand-marketing/page/\" + str(page_number)\n",
    "html = urlopen(url)\n",
    "soup = BeautifulSoup(html, 'lxml')\n",
    "events = soup.find(\"ul\",{\"class\":\"newsList\"}).find_all(\"li\")\n",
    "df = pd.DataFrame(columns=['Event Title','Event Post Date','URL','Para 1','Para 2','Para 3'])  \n",
    "for i in range (0,len(events)):\n",
    "    temp = events[i].find(\"span\",{\"class\":\"cate\"}).text.strip()\n",
    "    if(temp=='Activation / Promotion' or temp=='Brand Launch'):\n",
    "        event_page_url = 'https://www.eventfaqs.com'+events[i].find(\"div\",{\"class\",\"nlThumb\"}).find(\"a\")[\"href\"]\n",
    "        event_page_url = event_page_url.replace(u\"\\u2019\",\"'\")\n",
    "        \n",
    "        event_page_html = urlopen(event_page_url)\n",
    "        \n",
    "        event_page_soup = BeautifulSoup(event_page_html,'lxml')\n",
    "\n",
    "        title = event_page_soup.find(\"h1\",{\"itemprop\":\"headline\"}).text.strip()\n",
    "        \n",
    "        post_date = event_page_soup.find(\"p\",{\"class\",\"pubDets\"}).find(\"span\",{\"class\",\"dT\"}).text.strip()\n",
    "        \n",
    "        post_content_para_1 = event_page_soup.find(\"div\",{\"class\",\"mod_theme_News\"}).findAll(\"p\")[3].text.strip()\n",
    "        \n",
    "        post_content_para_2 = event_page_soup.find(\"div\",{\"class\",\"mod_theme_News\"}).findAll(\"p\")[4].text.strip()\n",
    "        \n",
    "        post_content_para_3 = event_page_soup.find(\"div\",{\"class\",\"mod_theme_News\"}).findAll(\"p\")[5].text.strip()\n",
    "        row = {'Event Title' : title, 'Event Post Date': post_date, 'URL': event_page_url, 'Para 1' : post_content_para_1, 'Para 2' : post_content_para_2, 'Para 3' : post_content_para_3}\n",
    "        #print(row)\n",
    "        df = df.append(row , ignore_index=True)\n",
    "        \n",
    "\n",
    "file_name = 'cscforpage' + str(page_number) + '.csv'\n",
    "df.to_csv(file_name, encoding='utf-8')\n",
    "print(\"File created\");"
   ]
  },
  {
   "cell_type": "code",
   "execution_count": null,
   "metadata": {},
   "outputs": [],
   "source": []
  },
  {
   "cell_type": "code",
   "execution_count": null,
   "metadata": {},
   "outputs": [],
   "source": []
  }
 ],
 "metadata": {
  "kernelspec": {
   "display_name": "Python 3",
   "language": "python",
   "name": "python3"
  },
  "language_info": {
   "codemirror_mode": {
    "name": "ipython",
    "version": 3
   },
   "file_extension": ".py",
   "mimetype": "text/x-python",
   "name": "python",
   "nbconvert_exporter": "python",
   "pygments_lexer": "ipython3",
   "version": "3.6.5"
  }
 },
 "nbformat": 4,
 "nbformat_minor": 2
}
